{
 "cells": [
  {
   "cell_type": "markdown",
   "metadata": {},
   "source": [
    "# Task 2: Company Name Matcher"
   ]
  },
  {
   "cell_type": "markdown",
   "metadata": {},
   "source": [
    "## Loading Data"
   ]
  },
  {
   "cell_type": "code",
   "execution_count": 4,
   "metadata": {},
   "outputs": [],
   "source": [
    "# Load the Pandas libraries with alias 'pd' \n",
    "import pandas as pd \n",
    "\n",
    "# Read company names from the database \n",
    "company_names_database = pd.read_csv(\"data/company_name_matcher_data_esg_db.csv\") \n",
    "\n",
    "# Read file you want to compare with\n",
    "company_names_uploaded = pd.read_csv(\"data/company_name_matcher_data_3.csv\")"
   ]
  },
  {
   "cell_type": "markdown",
   "metadata": {},
   "source": [
    "## Setting parameter for algorithm"
   ]
  },
  {
   "cell_type": "markdown",
   "metadata": {},
   "source": [
    "Here you can define how many similar words you want to search for in the ESG database."
   ]
  },
  {
   "cell_type": "code",
   "execution_count": 5,
   "metadata": {},
   "outputs": [],
   "source": [
    "#number of similar company names you want to search in database\n",
    "n = 2;"
   ]
  },
  {
   "cell_type": "markdown",
   "metadata": {},
   "source": [
    "## Enter a company name and compare to ESG database"
   ]
  },
  {
   "cell_type": "markdown",
   "metadata": {},
   "source": [
    "In this section you can change the value of the variable 'your_company_name' and run the algo to search similar companies."
   ]
  },
  {
   "cell_type": "code",
   "execution_count": 6,
   "metadata": {},
   "outputs": [],
   "source": [
    "#enter the company name\n",
    "your_company_name = \"Adobe Inclusive\""
   ]
  },
  {
   "cell_type": "markdown",
   "metadata": {},
   "source": [
    "For the search and compare algorithm the phyton library fuzzywuzzy is used. It uses Levenshtein distance to calculate the differences between sequences of letters. It is a technique of finding strings that match a pattern approximately (rather than exactly). \n",
    "Therefore, it uses a similarity score (0-100) which means the higher this score the more similar are the two strings. It is printed out in every result below, so it is easier to understand the comparison."
   ]
  },
  {
   "cell_type": "code",
   "execution_count": 7,
   "metadata": {},
   "outputs": [
    {
     "name": "stdout",
     "output_type": "stream",
     "text": [
      "Your company name: \u001b[1mAdobe Inclusive\u001b[0m\n",
      "Number of most similar names you want to search for: \u001b[1m2\u001b[0m\n",
      "Founded similair company names in ESG database: \u001b[1m('ADOBE INC.', 90)('ADOBE SYSTEMS INCORPORATED', 86)\u001b[0m\n"
     ]
    }
   ],
   "source": [
    "#Search for similar company names\n",
    "from fuzzywuzzy import fuzz\n",
    "from fuzzywuzzy import process\n",
    "\n",
    "output = process.extract(your_company_name, company_names_database['name_'].to_list(),limit = n)\n",
    "print('Your company name: ' + '\\033[1m'+  your_company_name + '\\033[0m')\n",
    "print('Number of most similar names you want to search for: ' + '\\033[1m' + str(n) + '\\033[0m')\n",
    "print('Founded similair company names in ESG database: '+ '\\033[1m' + ''.join(map(str, output))+ '\\033[0m')"
   ]
  },
  {
   "cell_type": "markdown",
   "metadata": {},
   "source": [
    "## Compare company names from .csv file to ESG database"
   ]
  },
  {
   "cell_type": "code",
   "execution_count": 8,
   "metadata": {},
   "outputs": [
    {
     "data": {
      "text/html": [
       "<div>\n",
       "<style scoped>\n",
       "    .dataframe tbody tr th:only-of-type {\n",
       "        vertical-align: middle;\n",
       "    }\n",
       "\n",
       "    .dataframe tbody tr th {\n",
       "        vertical-align: top;\n",
       "    }\n",
       "\n",
       "    .dataframe thead th {\n",
       "        text-align: right;\n",
       "    }\n",
       "</style>\n",
       "<table border=\"1\" class=\"dataframe\">\n",
       "  <thead>\n",
       "    <tr style=\"text-align: right;\">\n",
       "      <th></th>\n",
       "      <th>Company Name</th>\n",
       "      <th>ISIN</th>\n",
       "      <th>Target Qualification</th>\n",
       "      <th>SME?</th>\n",
       "      <th>Business ambitions 1.5</th>\n",
       "      <th>Country</th>\n",
       "      <th>Region</th>\n",
       "      <th>Sector</th>\n",
       "      <th>Status</th>\n",
       "      <th>Date</th>\n",
       "      <th>Date Explanation</th>\n",
       "      <th>Target</th>\n",
       "      <th>Target Classification</th>\n",
       "    </tr>\n",
       "  </thead>\n",
       "  <tbody>\n",
       "    <tr>\n",
       "      <th>0</th>\n",
       "      <td>A1 Telekom Austria Group</td>\n",
       "      <td>AT0000720008</td>\n",
       "      <td>1.5°C</td>\n",
       "      <td>NaN</td>\n",
       "      <td>NaN</td>\n",
       "      <td>Austria</td>\n",
       "      <td>Europe</td>\n",
       "      <td>Telecommunication Services</td>\n",
       "      <td>Targets Set</td>\n",
       "      <td>2020-09-01 00:00:00</td>\n",
       "      <td>NaN</td>\n",
       "      <td>A1 Telekom Austria Group commits to reduce abs...</td>\n",
       "      <td>The targets covering greenhouse gas emissions ...</td>\n",
       "    </tr>\n",
       "    <tr>\n",
       "      <th>1</th>\n",
       "      <td>A2A S.p.A.</td>\n",
       "      <td>IT0001233417</td>\n",
       "      <td>2°C</td>\n",
       "      <td>NaN</td>\n",
       "      <td>NaN</td>\n",
       "      <td>Italy</td>\n",
       "      <td>Europe</td>\n",
       "      <td>Electric Utilities and Independent Power Produ...</td>\n",
       "      <td>Targets Set</td>\n",
       "      <td>2020-03-01 00:00:00</td>\n",
       "      <td>NaN</td>\n",
       "      <td>Italian multi-utility company A2A S.p.A commit...</td>\n",
       "      <td>The targets covering greenhouse gas emissions ...</td>\n",
       "    </tr>\n",
       "    <tr>\n",
       "      <th>2</th>\n",
       "      <td>Aardvark Certification Ltd</td>\n",
       "      <td>NaN</td>\n",
       "      <td>Well-below 2°C</td>\n",
       "      <td>1.0</td>\n",
       "      <td>NaN</td>\n",
       "      <td>United Kingdom (UK)</td>\n",
       "      <td>Europe</td>\n",
       "      <td>Professional Services</td>\n",
       "      <td>Targets Set</td>\n",
       "      <td>2020-07-01 00:00:00</td>\n",
       "      <td>NaN</td>\n",
       "      <td>Aardvark Certification Ltd. commits to reduce ...</td>\n",
       "      <td>The targets covering greenhouse gas emissions ...</td>\n",
       "    </tr>\n",
       "    <tr>\n",
       "      <th>3</th>\n",
       "      <td>AB InBev</td>\n",
       "      <td>BE0974293251</td>\n",
       "      <td>1.5°C</td>\n",
       "      <td>NaN</td>\n",
       "      <td>NaN</td>\n",
       "      <td>Belgium</td>\n",
       "      <td>Europe</td>\n",
       "      <td>Food and Beverage Processing</td>\n",
       "      <td>Targets Set</td>\n",
       "      <td>2018-03-01 00:00:00</td>\n",
       "      <td>NaN</td>\n",
       "      <td>Global Brewer AB InBev commits to reduce absol...</td>\n",
       "      <td>The targets covering greenhouse gas emissions ...</td>\n",
       "    </tr>\n",
       "    <tr>\n",
       "      <th>4</th>\n",
       "      <td>ABB</td>\n",
       "      <td>CH0012221716</td>\n",
       "      <td>1.5°C</td>\n",
       "      <td>NaN</td>\n",
       "      <td>1.0</td>\n",
       "      <td>Switzerland</td>\n",
       "      <td>Europe</td>\n",
       "      <td>Electrical Equipment and Machinery</td>\n",
       "      <td>Targets Set</td>\n",
       "      <td>2021-06-01 00:00:00</td>\n",
       "      <td>NaN</td>\n",
       "      <td>ABB commits to reduce absolute scope 1 and 2 G...</td>\n",
       "      <td>The targets covering greenhouse gas emissions ...</td>\n",
       "    </tr>\n",
       "  </tbody>\n",
       "</table>\n",
       "</div>"
      ],
      "text/plain": [
       "                 Company Name          ISIN Target Qualification  SME?  \\\n",
       "0    A1 Telekom Austria Group  AT0000720008                1.5°C   NaN   \n",
       "1                  A2A S.p.A.  IT0001233417                  2°C   NaN   \n",
       "2  Aardvark Certification Ltd           NaN       Well-below 2°C   1.0   \n",
       "3                    AB InBev  BE0974293251                1.5°C   NaN   \n",
       "4                         ABB  CH0012221716                1.5°C   NaN   \n",
       "\n",
       "   Business ambitions 1.5              Country  Region  \\\n",
       "0                     NaN              Austria  Europe   \n",
       "1                     NaN                Italy  Europe   \n",
       "2                     NaN  United Kingdom (UK)  Europe   \n",
       "3                     NaN              Belgium  Europe   \n",
       "4                     1.0          Switzerland  Europe   \n",
       "\n",
       "                                              Sector       Status  \\\n",
       "0                         Telecommunication Services  Targets Set   \n",
       "1  Electric Utilities and Independent Power Produ...  Targets Set   \n",
       "2                              Professional Services  Targets Set   \n",
       "3                       Food and Beverage Processing  Targets Set   \n",
       "4                 Electrical Equipment and Machinery  Targets Set   \n",
       "\n",
       "                  Date  Date Explanation  \\\n",
       "0  2020-09-01 00:00:00               NaN   \n",
       "1  2020-03-01 00:00:00               NaN   \n",
       "2  2020-07-01 00:00:00               NaN   \n",
       "3  2018-03-01 00:00:00               NaN   \n",
       "4  2021-06-01 00:00:00               NaN   \n",
       "\n",
       "                                              Target  \\\n",
       "0  A1 Telekom Austria Group commits to reduce abs...   \n",
       "1  Italian multi-utility company A2A S.p.A commit...   \n",
       "2  Aardvark Certification Ltd. commits to reduce ...   \n",
       "3  Global Brewer AB InBev commits to reduce absol...   \n",
       "4  ABB commits to reduce absolute scope 1 and 2 G...   \n",
       "\n",
       "                               Target Classification  \n",
       "0  The targets covering greenhouse gas emissions ...  \n",
       "1  The targets covering greenhouse gas emissions ...  \n",
       "2  The targets covering greenhouse gas emissions ...  \n",
       "3  The targets covering greenhouse gas emissions ...  \n",
       "4  The targets covering greenhouse gas emissions ...  "
      ]
     },
     "execution_count": 8,
     "metadata": {},
     "output_type": "execute_result"
    }
   ],
   "source": [
    "# Preview the first 5 lines of the loaded data - to see name of column with company names\n",
    "company_names_uploaded.head()"
   ]
  },
  {
   "cell_type": "markdown",
   "metadata": {},
   "source": [
    "Take out the columnn name of your file which includes all the company names."
   ]
  },
  {
   "cell_type": "code",
   "execution_count": 9,
   "metadata": {},
   "outputs": [],
   "source": [
    "#enter the name of this column\n",
    "column_company_name = \"Company Name\""
   ]
  },
  {
   "cell_type": "markdown",
   "metadata": {},
   "source": [
    "Lets run the algo for the 5 first columns of the file due to performance reason."
   ]
  },
  {
   "cell_type": "code",
   "execution_count": 10,
   "metadata": {},
   "outputs": [
    {
     "data": {
      "text/html": [
       "<div>\n",
       "<style scoped>\n",
       "    .dataframe tbody tr th:only-of-type {\n",
       "        vertical-align: middle;\n",
       "    }\n",
       "\n",
       "    .dataframe tbody tr th {\n",
       "        vertical-align: top;\n",
       "    }\n",
       "\n",
       "    .dataframe thead th {\n",
       "        text-align: right;\n",
       "    }\n",
       "</style>\n",
       "<table border=\"1\" class=\"dataframe\">\n",
       "  <thead>\n",
       "    <tr style=\"text-align: right;\">\n",
       "      <th></th>\n",
       "      <th>company_name</th>\n",
       "      <th>similar_names_from_database</th>\n",
       "    </tr>\n",
       "  </thead>\n",
       "  <tbody>\n",
       "    <tr>\n",
       "      <th>0</th>\n",
       "      <td>A1 Telekom Austria Group</td>\n",
       "      <td>[(Monex Group, Inc., 86), (Airbus Group SE, 86)]</td>\n",
       "    </tr>\n",
       "    <tr>\n",
       "      <th>1</th>\n",
       "      <td>A2A S.p.A.</td>\n",
       "      <td>[(A2A S.P.A., 100), (A2A S.p.A., 100)]</td>\n",
       "    </tr>\n",
       "    <tr>\n",
       "      <th>2</th>\n",
       "      <td>Aardvark Certification Ltd</td>\n",
       "      <td>[(VALQUA, LTD., 86), (Standard Life Investments Property Inc Trust Ltd, 86)]</td>\n",
       "    </tr>\n",
       "    <tr>\n",
       "      <th>3</th>\n",
       "      <td>AB InBev</td>\n",
       "      <td>[(B&amp;B Tools AB, 86), (ANHEUSER-BUSCH INBEV S.A., 86)]</td>\n",
       "    </tr>\n",
       "    <tr>\n",
       "      <th>4</th>\n",
       "      <td>ABB</td>\n",
       "      <td>[(ABBOTT INDIA LIMITED, 90), (Speed Rabbit Pizza SA, 90)]</td>\n",
       "    </tr>\n",
       "  </tbody>\n",
       "</table>\n",
       "</div>"
      ],
      "text/plain": [
       "                 company_name  \\\n",
       "0    A1 Telekom Austria Group   \n",
       "1                  A2A S.p.A.   \n",
       "2  Aardvark Certification Ltd   \n",
       "3                    AB InBev   \n",
       "4                         ABB   \n",
       "\n",
       "                                                    similar_names_from_database  \n",
       "0                              [(Monex Group, Inc., 86), (Airbus Group SE, 86)]  \n",
       "1                                        [(A2A S.P.A., 100), (A2A S.p.A., 100)]  \n",
       "2  [(VALQUA, LTD., 86), (Standard Life Investments Property Inc Trust Ltd, 86)]  \n",
       "3                         [(B&B Tools AB, 86), (ANHEUSER-BUSCH INBEV S.A., 86)]  \n",
       "4                     [(ABBOTT INDIA LIMITED, 90), (Speed Rabbit Pizza SA, 90)]  "
      ]
     },
     "execution_count": 10,
     "metadata": {},
     "output_type": "execute_result"
    }
   ],
   "source": [
    "#get small sample (n=5) out of csv file (performance reason)\n",
    "company_names = company_names_uploaded.head(5)\n",
    "\n",
    "#create dataframe\n",
    "cols = ['company_name', 'similar_names_from_database']\n",
    "result = []\n",
    "\n",
    "#loop through your file and check for similar words in ESG database\n",
    "for ind in company_names.index:\n",
    "    similar_names = process.extract(company_names[column_company_name][ind], company_names_database['name_'].to_list(),limit = n)\n",
    "    result.append([(company_names[column_company_name][ind]), similar_names])\n",
    "\n",
    "#show result in a dataframe   \n",
    "comparison = pd.DataFrame(result, columns=cols)\n",
    "pd.set_option('display.max_colwidth', None)\n",
    "comparison.head()\n"
   ]
  },
  {
   "cell_type": "markdown",
   "metadata": {},
   "source": [
    "As you can see sometimes no matching or pretty similar company name is found (e.g. for ABB)."
   ]
  },
  {
   "cell_type": "markdown",
   "metadata": {},
   "source": [
    "## Export comparison dataframe as csv file"
   ]
  },
  {
   "cell_type": "code",
   "execution_count": null,
   "metadata": {},
   "outputs": [],
   "source": [
    "df.to_csv('data/comparison.csv')"
   ]
  }
 ],
 "metadata": {
  "kernelspec": {
   "display_name": "Python 3",
   "language": "python",
   "name": "python3"
  },
  "language_info": {
   "codemirror_mode": {
    "name": "ipython",
    "version": 3
   },
   "file_extension": ".py",
   "mimetype": "text/x-python",
   "name": "python",
   "nbconvert_exporter": "python",
   "pygments_lexer": "ipython3",
   "version": "3.8.3"
  }
 },
 "nbformat": 4,
 "nbformat_minor": 4
}
